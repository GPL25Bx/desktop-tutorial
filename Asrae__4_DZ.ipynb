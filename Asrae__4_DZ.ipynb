{
 "cells": [
  {
   "cell_type": "markdown",
   "id": "697f9b12-8c92-497d-9462-46b58d3c8bf7",
   "metadata": {},
   "source": [
    "## Задание\n",
    "1. Выделить час из timestamp\n",
    "2. Вычислить среднее энергопотребления по часам на обучающей выборке\n",
    "3. Проверить точность работы модели \"среднее по часам\" относительно модели \"общее среднее\" напроверочной выборке"
   ]
  },
  {
   "cell_type": "code",
   "execution_count": 19,
   "id": "e12a8571-39c3-4d50-ba19-cac372901177",
   "metadata": {},
   "outputs": [],
   "source": [
    "import numpy as np\n",
    "import pandas as pd"
   ]
  },
  {
   "cell_type": "code",
   "execution_count": 20,
   "id": "0dafcb02-3889-4f64-a8c7-cb5492ae5bbf",
   "metadata": {},
   "outputs": [
    {
     "name": "stdout",
     "output_type": "stream",
     "text": [
      "   Unnamed: 0            timestamp  meter_reading  air_temperature  \\\n",
      "0         704  2016-01-30 08:00:00        43.6839              8.3   \n",
      "1         725  2016-01-31 05:00:00        37.5408             12.8   \n",
      "2         737  2016-01-31 17:00:00        52.5571             20.6   \n",
      "3        2366  2016-04-08 14:00:00        59.3827             21.7   \n",
      "4        2923  2016-05-01 19:00:00       448.0000             31.1   \n",
      "\n",
      "   cloud_coverage  dew_temperature  precip_depth_1_hr  sea_level_pressure  \\\n",
      "0             0.0              6.1                0.0              1019.0   \n",
      "1             0.0             10.0                0.0              1021.9   \n",
      "2             0.0             11.7                0.0              1020.9   \n",
      "3             2.0             14.4                0.0              1015.1   \n",
      "4             0.0             17.2                0.0              1016.1   \n",
      "\n",
      "   wind_speed  wind_direction_sin  wind_direction_cos  air_temperature1  \n",
      "0         2.1           -0.642788           -0.766044              -2.3  \n",
      "1         0.0            0.000000            1.000000              -1.1  \n",
      "2         1.5            0.939693           -0.342020               1.7  \n",
      "3         3.1           -0.939693           -0.342020               2.8  \n",
      "4         4.1            0.984808           -0.173648               1.1  \n"
     ]
    }
   ],
   "source": [
    "data = pd.read_csv('energy_1.csv')\n",
    "print(data.head())"
   ]
  },
  {
   "cell_type": "markdown",
   "id": "3d390ca8-f01f-4cfa-90ce-9b5240514b0f",
   "metadata": {},
   "source": [
    "### выделяем час"
   ]
  },
  {
   "cell_type": "code",
   "execution_count": 21,
   "id": "f62a8964-1e90-4ff8-bb71-e3d9c651439c",
   "metadata": {},
   "outputs": [],
   "source": [
    "data['timestamp'] = pd.to_datetime(data['timestamp'])\n",
    "data['hour'] = data['timestamp'].dt.hour"
   ]
  },
  {
   "cell_type": "code",
   "execution_count": 22,
   "id": "0d8996df-09fd-4a62-85a5-94518e59f449",
   "metadata": {},
   "outputs": [],
   "source": [
    "data.to_csv('energy_2.csv', index=False)"
   ]
  },
  {
   "cell_type": "markdown",
   "id": "8a8bf215-7b28-45d9-9bcb-0a4d514e49bd",
   "metadata": {},
   "source": [
    "Вычисление среднеквадратичного(стандартного) отклонения для всего массива"
   ]
  },
  {
   "cell_type": "code",
   "execution_count": 23,
   "id": "52a0de85-2b86-45e1-8318-32f1c69b8c0e",
   "metadata": {},
   "outputs": [
    {
     "name": "stdout",
     "output_type": "stream",
     "text": [
      "49.13\n"
     ]
    }
   ],
   "source": [
    "sqt = np.std(data['meter_reading'])\n",
    "print('{0:.4}'.format(sqt))"
   ]
  },
  {
   "cell_type": "markdown",
   "id": "2fa25a17-4fa8-4a7a-9e2b-b07f302f5f81",
   "metadata": {},
   "source": [
    "### Построение базовой модели\n",
    "среднее и его ошибка"
   ]
  },
  {
   "cell_type": "code",
   "execution_count": 24,
   "id": "26f2fa37-fa69-4d76-bf21-c308e484b19b",
   "metadata": {},
   "outputs": [
    {
     "name": "stdout",
     "output_type": "stream",
     "text": [
      "Модель: 237.7 ошибка модели: 15.17% ошибка данных: 20.66%\n"
     ]
    }
   ],
   "source": [
    "model=float(data['meter_reading'].mean())\n",
    "err = np.mean(abs(data['meter_reading']-model))\n",
    "print('Модель: {0:.4}'.format(model),\n",
    "     'ошибка модели: {0:.4}%'.format(100*err/model),\n",
    "      'ошибка данных: {0:.4}%'.format(100*sqt/model))"
   ]
  },
  {
   "cell_type": "markdown",
   "id": "f2704efd-edab-4ef7-b529-a8a103517bbb",
   "metadata": {},
   "source": [
    "### Модель по первому часу"
   ]
  },
  {
   "cell_type": "code",
   "execution_count": 25,
   "id": "dfa210aa-636b-4ded-ac9b-b4d118eb4b72",
   "metadata": {},
   "outputs": [
    {
     "name": "stdout",
     "output_type": "stream",
     "text": [
      "     Unnamed: 0  timestamp  meter_reading  air_temperature  cloud_coverage  \\\n",
      "11         3384 2016-05-21        249.817             26.7             6.0   \n",
      "35         3408 2016-05-22        251.182             28.9             2.0   \n",
      "59         3432 2016-05-23        237.531             26.7             6.0   \n",
      "83         3456 2016-05-24        223.197             26.1             4.0   \n",
      "107        3480 2016-05-25        208.863             26.1             4.0   \n",
      "\n",
      "     dew_temperature  precip_depth_1_hr  sea_level_pressure  wind_speed  \\\n",
      "11              19.4                0.0              1017.5         0.0   \n",
      "35              17.2                0.0              1013.6         4.1   \n",
      "59              14.4                0.0              1011.5         7.2   \n",
      "83              15.6                0.0              1014.1         6.2   \n",
      "107             13.9                0.0              1019.6         5.1   \n",
      "\n",
      "     wind_direction_sin  wind_direction_cos  air_temperature1  hour  \n",
      "11             0.000000            1.000000              -0.5     0  \n",
      "35            -0.939693            0.342020              -1.7     0  \n",
      "59            -0.984808            0.173648              -2.2     0  \n",
      "83             0.939693            0.342020              -1.7     0  \n",
      "107            0.984808           -0.173648              -1.1     0  \n"
     ]
    }
   ],
   "source": [
    "data0 = data.loc[data['hour']==0]\n",
    "print(data0.head())"
   ]
  },
  {
   "cell_type": "markdown",
   "id": "6b8a07ad-75e7-42c0-b06f-2b79c95a3535",
   "metadata": {},
   "source": [
    "строим модель первого часа и сравниваем ее точность с базовой моделью"
   ]
  },
  {
   "cell_type": "code",
   "execution_count": 26,
   "id": "ae7957fd-5341-44cf-ae8c-4ceb8bf3f40a",
   "metadata": {},
   "outputs": [
    {
     "name": "stdout",
     "output_type": "stream",
     "text": [
      "Модель: 238.7 Ошибка модели по 0у часу: 13.63% Ошибка базовоймодели: 15.17%\n"
     ]
    }
   ],
   "source": [
    "model0 = float(data0['meter_reading'].mean())\n",
    "err0 = np.mean(abs(data0['meter_reading'] - model0))\n",
    "print('Модель: {0:.4}'.format(model0),\n",
    "      'Ошибка модели по 0у часу: {0:.4}%'.format(100*err0/model0),\n",
    "      'Ошибка базовоймодели: {0:.4}%'.format(100*err/model))"
   ]
  },
  {
   "cell_type": "markdown",
   "id": "f1258ace-263f-4c3e-bcc3-556fee4754a1",
   "metadata": {},
   "source": [
    "## Создаем 24 часовых модели"
   ]
  },
  {
   "cell_type": "code",
   "execution_count": 27,
   "id": "dd5d0c98-91e2-4301-86f6-71437a78aa7b",
   "metadata": {},
   "outputs": [
    {
     "name": "stdout",
     "output_type": "stream",
     "text": [
      "Модель: 239.2 Ошибка модели по 1у часу: 13.95% Ошибка базовой модели: 15.17%\n"
     ]
    }
   ],
   "source": [
    "data1 = data.loc[data['hour']==1]\n",
    "model1 = float(data1['meter_reading'].mean())\n",
    "err1 = np.mean(abs(data1['meter_reading'] - model1))\n",
    "print('Модель: {0:.4}'.format(model1),\n",
    "      'Ошибка модели по 1у часу: {0:.4}%'.format(100*err1/model1))"
   ]
  },
  {
   "cell_type": "code",
   "execution_count": 28,
   "id": "a9b720d3-05fa-40ac-907e-cd325370e68e",
   "metadata": {},
   "outputs": [
    {
     "name": "stdout",
     "output_type": "stream",
     "text": [
      "Модель: 239.7 Ошибка модели по 2у часу: 14.16% Ошибка базовой модели: 15.17%\n"
     ]
    }
   ],
   "source": [
    "data2 = data.loc[data['hour']==2]\n",
    "model2 = float(data2['meter_reading'].mean())\n",
    "err2 = np.mean(abs(data2['meter_reading'] - model2))\n",
    "print('Модель: {0:.4}'.format(model2),\n",
    "      'Ошибка модели по 2у часу: {0:.4}%'.format(100*err2/model2))"
   ]
  },
  {
   "cell_type": "code",
   "execution_count": 31,
   "id": "b1441eef-e3a3-4d97-b95a-5f1159c41e30",
   "metadata": {},
   "outputs": [
    {
     "name": "stdout",
     "output_type": "stream",
     "text": [
      "Модель: 240.2 Ошибка модели по 3у часу: 13.7%\n"
     ]
    }
   ],
   "source": [
    "data3 = data.loc[data['hour']==3]\n",
    "model3 = float(data3['meter_reading'].mean())\n",
    "err3 = np.mean(abs(data3['meter_reading'] - model3))\n",
    "print('Модель: {0:.4}'.format(model3),\n",
    "      'Ошибка модели по 3у часу: {0:.4}%'.format(100*err3/model3))"
   ]
  },
  {
   "cell_type": "code",
   "execution_count": 30,
   "id": "1d7aaf97-d719-4b8e-919b-b133e22c4e05",
   "metadata": {},
   "outputs": [
    {
     "name": "stdout",
     "output_type": "stream",
     "text": [
      "Модель: 239.3 Ошибка модели по 4у часу: 13.75%\n"
     ]
    }
   ],
   "source": [
    "data4 = data.loc[data['hour']==4]\n",
    "model4 = float(data4['meter_reading'].mean())\n",
    "err4 = np.mean(abs(data4['meter_reading'] - model4))\n",
    "print('Модель: {0:.4}'.format(model4),\n",
    "      'Ошибка модели по 4у часу: {0:.4}%'.format(100*err3/model4))"
   ]
  },
  {
   "cell_type": "code",
   "execution_count": null,
   "id": "8d4ec4e8-1ad1-4050-b6d3-525547ed8e1c",
   "metadata": {},
   "outputs": [],
   "source": []
  }
 ],
 "metadata": {
  "kernelspec": {
   "display_name": "Python 3 (ipykernel)",
   "language": "python",
   "name": "python3"
  },
  "language_info": {
   "codemirror_mode": {
    "name": "ipython",
    "version": 3
   },
   "file_extension": ".py",
   "mimetype": "text/x-python",
   "name": "python",
   "nbconvert_exporter": "python",
   "pygments_lexer": "ipython3",
   "version": "3.9.7"
  }
 },
 "nbformat": 4,
 "nbformat_minor": 5
}
